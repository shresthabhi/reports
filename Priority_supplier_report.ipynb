{
 "cells": [
  {
   "cell_type": "code",
   "execution_count": 6,
   "id": "06117ca4",
   "metadata": {},
   "outputs": [],
   "source": [
    "import os\n",
    "import pandas as pd\n",
    "import numpy as np\n",
    "from pathlib import Path\n",
    "\n",
    "import shutil\n",
    "\n"
   ]
  },
  {
   "cell_type": "code",
   "execution_count": 7,
   "id": "682e3f50",
   "metadata": {},
   "outputs": [],
   "source": [
    "supplier_list = [9049,587411,129878,14712,12045,114958,97618,39285,148241,54486,31518,148230,143117,21230,64610,349105,88869,270795,64751,688714,4773,128271,23035,271584,93064,546093,851959,81874,30152,28929,139831,63422,159112,849142,21460,567074,194290,74499,65017,505036,8053,183164,18039,625785,188575,775643,219547]"
   ]
  },
  {
   "cell_type": "code",
   "execution_count": 8,
   "id": "318155a8",
   "metadata": {},
   "outputs": [
    {
     "data": {
      "text/plain": [
       "47"
      ]
     },
     "execution_count": 8,
     "metadata": {},
     "output_type": "execute_result"
    }
   ],
   "source": [
    "len(supplier_list)"
   ]
  },
  {
   "cell_type": "code",
   "execution_count": 10,
   "id": "e954e171",
   "metadata": {},
   "outputs": [
    {
     "name": "stdout",
     "output_type": "stream",
     "text": [
      "D:\\Affiliate Program Pilot\\pdf_reports\\reports\n"
     ]
    }
   ],
   "source": [
    "path_to_copy_from = os.path.join(os.getcwd(), \"reports\")\n",
    "print(path_to_copy_from)\n",
    "path_to_copy_to = os.path.join(os.getcwd(), \"priority_reports\")\n",
    "\n",
    "\n",
    "os.makedirs(path_to_copy_to, exist_ok=True)\n",
    "\n",
    "for supplier in supplier_list:\n",
    "    \n",
    "    source = os.path.join(path_to_copy_from, str(supplier))\n",
    "    destination = os.path.join(path_to_copy_to, str(supplier))\n",
    "    \n",
    "#     os.chmod(destination, 0o755)\n",
    "    \n",
    "    shutil.copytree(source, destination)\n"
   ]
  },
  {
   "cell_type": "code",
   "execution_count": null,
   "id": "6e853e2b",
   "metadata": {},
   "outputs": [],
   "source": [
    "ti"
   ]
  }
 ],
 "metadata": {
  "kernelspec": {
   "display_name": "Python 3 (ipykernel)",
   "language": "python",
   "name": "python3"
  },
  "language_info": {
   "codemirror_mode": {
    "name": "ipython",
    "version": 3
   },
   "file_extension": ".py",
   "mimetype": "text/x-python",
   "name": "python",
   "nbconvert_exporter": "python",
   "pygments_lexer": "ipython3",
   "version": "3.9.7"
  }
 },
 "nbformat": 4,
 "nbformat_minor": 5
}
