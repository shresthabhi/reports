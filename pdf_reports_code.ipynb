{
 "cells": [
  {
   "cell_type": "code",
   "execution_count": 1,
   "id": "6365ab3f",
   "metadata": {},
   "outputs": [
    {
     "name": "stdout",
     "output_type": "stream",
     "text": [
      "^C\n"
     ]
    }
   ],
   "source": [
    "!python main.py"
   ]
  },
  {
   "cell_type": "code",
   "execution_count": 25,
   "id": "e9eb2474",
   "metadata": {},
   "outputs": [
    {
     "data": {
      "text/plain": [
       "'Dfdsa Dfads'"
      ]
     },
     "execution_count": 25,
     "metadata": {},
     "output_type": "execute_result"
    }
   ],
   "source": [
    "\" \".join([word.capitalize() for word in \"dfdsa_dfads\".replace(\"_\", \" \").split(\" \")])"
   ]
  },
  {
   "cell_type": "code",
   "execution_count": 28,
   "id": "2a4bf4be",
   "metadata": {},
   "outputs": [],
   "source": [
    "def capitalize_columns(columns):\n",
    "    \n",
    "    final_columns = [\" \".join([word.capitalize() for word in col.split(\"_\")]) for col in columns]\n",
    "    \n",
    "    return final_columns"
   ]
  },
  {
   "cell_type": "code",
   "execution_count": 29,
   "id": "58c7928b",
   "metadata": {},
   "outputs": [
    {
     "data": {
      "text/plain": [
       "['Dfds Dfd', 'Dfd Dfd']"
      ]
     },
     "execution_count": 29,
     "metadata": {},
     "output_type": "execute_result"
    }
   ],
   "source": [
    "capitalize_columns([\"Dfds_dfd\", \"dfd_dfd\"])"
   ]
  },
  {
   "cell_type": "code",
   "execution_count": 50,
   "id": "a825d072",
   "metadata": {},
   "outputs": [
    {
     "data": {
      "text/plain": [
       "0    29 Jul\n",
       "1    30 Jul\n",
       "2    04 Aug\n",
       "3    04 Aug\n",
       "4    05 Aug\n",
       "5    14 Aug\n",
       "6    16 Aug\n",
       "7    20 Aug\n",
       "8    25 Aug\n",
       "Name: order_date, dtype: object"
      ]
     },
     "execution_count": 50,
     "metadata": {},
     "output_type": "execute_result"
    }
   ],
   "source": [
    "pd.to_datetime(data_supplier.order_date, format = \"%Y-%m-%d\").dt.strftime('%d %b')"
   ]
  },
  {
   "cell_type": "code",
   "execution_count": 66,
   "id": "3804d013",
   "metadata": {},
   "outputs": [
    {
     "data": {
      "text/plain": [
       "0"
      ]
     },
     "execution_count": 66,
     "metadata": {},
     "output_type": "execute_result"
    }
   ],
   "source": [
    "int(0.8)"
   ]
  },
  {
   "cell_type": "code",
   "execution_count": 68,
   "id": "649a035f",
   "metadata": {},
   "outputs": [],
   "source": [
    "for i in range(0):\n",
    "    print(i)"
   ]
  },
  {
   "cell_type": "code",
   "execution_count": 71,
   "id": "d58380b5",
   "metadata": {},
   "outputs": [
    {
     "data": {
      "text/plain": [
       "(8887, 9)"
      ]
     },
     "execution_count": 71,
     "metadata": {},
     "output_type": "execute_result"
    }
   ],
   "source": [
    "data.shape"
   ]
  },
  {
   "cell_type": "code",
   "execution_count": 72,
   "id": "f103a997",
   "metadata": {},
   "outputs": [
    {
     "data": {
      "text/plain": [
       "566"
      ]
     },
     "execution_count": 72,
     "metadata": {},
     "output_type": "execute_result"
    }
   ],
   "source": [
    "data.supplier_id.nunique()"
   ]
  },
  {
   "cell_type": "code",
   "execution_count": 81,
   "id": "bd9054af",
   "metadata": {},
   "outputs": [],
   "source": [
    "import os"
   ]
  },
  {
   "cell_type": "code",
   "execution_count": null,
   "id": "0507ce12",
   "metadata": {},
   "outputs": [],
   "source": [
    "os.makedirs(ex)"
   ]
  },
  {
   "cell_type": "code",
   "execution_count": 79,
   "id": "7dc48cd7",
   "metadata": {},
   "outputs": [],
   "source": [
    "data.groupby(by = [\"supplier_id\"])[[\"affiliate_charge\"]].sum().sort_values(by = [\"affiliate_charge\"], ascending = [False]).to_excel(\"supplier_Charges.xlsx\")"
   ]
  },
  {
   "cell_type": "code",
   "execution_count": 83,
   "id": "8a6361f7",
   "metadata": {},
   "outputs": [
    {
     "data": {
      "text/plain": [
       "'dfd\\\\32Dfads'"
      ]
     },
     "execution_count": 83,
     "metadata": {},
     "output_type": "execute_result"
    }
   ],
   "source": [
    "os.path.join(\"dfd\", str(32) + \"Dfads\")"
   ]
  },
  {
   "cell_type": "code",
   "execution_count": 85,
   "id": "81c1913d",
   "metadata": {},
   "outputs": [
    {
     "data": {
      "text/plain": [
       "True"
      ]
     },
     "execution_count": 85,
     "metadata": {},
     "output_type": "execute_result"
    }
   ],
   "source": [
    "3 in np.array([1,2,3])"
   ]
  },
  {
   "cell_type": "code",
   "execution_count": 90,
   "id": "e8ac0e06",
   "metadata": {},
   "outputs": [
    {
     "data": {
      "text/plain": [
       "162774.565"
      ]
     },
     "execution_count": 90,
     "metadata": {},
     "output_type": "execute_result"
    }
   ],
   "source": [
    "data.affiliate_charge.sum()"
   ]
  },
  {
   "cell_type": "code",
   "execution_count": 88,
   "id": "3dc1509d",
   "metadata": {},
   "outputs": [
    {
     "data": {
      "text/plain": [
       "3255491.3"
      ]
     },
     "execution_count": 88,
     "metadata": {},
     "output_type": "execute_result"
    }
   ],
   "source": [
    "data.gmv.sum()"
   ]
  },
  {
   "cell_type": "code",
   "execution_count": 1,
   "id": "4daa5b7d",
   "metadata": {},
   "outputs": [],
   "source": [
    "from headers import generateHeader\n",
    "from footers import generateFooter\n",
    "from ordersBody import generateOrdersBody\n",
    "from summaryBody import generateSummaryBody\n",
    "from videoBody import generateVideoBody\n",
    "\n",
    "from reportlab.pdfgen import canvas\n",
    "from reportlab.lib.pagesizes import A4\n",
    "from reportlab.platypus import Table, TableStyle, Image, Paragraph\n",
    "from reportlab.lib import colors\n",
    "from reportlab.lib.styles import getSampleStyleSheet\n",
    "import numpy as np\n",
    "from pathlib import Path\n",
    "import pandas as pd\n",
    "import os\n"
   ]
  },
  {
   "cell_type": "code",
   "execution_count": 3,
   "id": "a30b1a0f",
   "metadata": {},
   "outputs": [
    {
     "name": "stdout",
     "output_type": "stream",
     "text": [
      "Successfully read orders data\n"
     ]
    }
   ],
   "source": [
    "orders_data_path = Path(r'D:\\Affiliate Program Pilot\\Supplier payments\\2023_09_01__2023_10_15\\Reports data\\supplier_orders_data.csv')\n",
    "video_data_path = Path(r'D:\\Affiliate Program Pilot\\Supplier payments\\2023_09_01__2023_10_15\\Reports data\\supplier_video_data.csv')\n",
    "main_directory = Path(r'D:\\Affiliate Program Pilot\\Supplier payments\\2023_09_01__2023_10_15\\final_reports')\n",
    "\n",
    "data = pd.read_csv(orders_data_path, parse_dates = [\"order_date\"])\n",
    "data = data[data.order_date >= '2023-09-01']\n",
    "# data = hyperlink_column(data, columns = [\"product_link\"], link_texts = [\"Click Here\"])\n",
    "print(\"Successfully read orders data\")"
   ]
  },
  {
   "cell_type": "code",
   "execution_count": 11,
   "id": "4dddf2cd",
   "metadata": {},
   "outputs": [
    {
     "data": {
      "text/plain": [
       "'16 August'"
      ]
     },
     "execution_count": 11,
     "metadata": {},
     "output_type": "execute_result"
    }
   ],
   "source": [
    "data.order_date.min().strftime(\"%d %B\")"
   ]
  },
  {
   "cell_type": "code",
   "execution_count": 13,
   "id": "331dc0db",
   "metadata": {},
   "outputs": [
    {
     "data": {
      "text/plain": [
       "10    101361\n",
       "9      45299\n",
       "8          7\n",
       "Name: order_date, dtype: int64"
      ]
     },
     "execution_count": 13,
     "metadata": {},
     "output_type": "execute_result"
    }
   ],
   "source": [
    "data.order_date.dt.month.value_counts()"
   ]
  },
  {
   "cell_type": "code",
   "execution_count": 23,
   "id": "300ff7d0",
   "metadata": {},
   "outputs": [],
   "source": [
    "data = data[data.order_date >= '2023-09-01']"
   ]
  },
  {
   "cell_type": "code",
   "execution_count": 20,
   "id": "903a418c",
   "metadata": {},
   "outputs": [
    {
     "name": "stdout",
     "output_type": "stream",
     "text": [
      "16th Aug\n"
     ]
    }
   ],
   "source": [
    "def format_dates_with_suffix(date):\n",
    "    # Define a function to get the appropriate day suffix\n",
    "    def get_day_suffix(day):\n",
    "        if 4 <= day <= 20 or 24 <= day <= 30:\n",
    "            return \"th\"\n",
    "        else:\n",
    "            return [\"st\", \"nd\", \"rd\"][day % 10 - 1]\n",
    "        \n",
    "    return date.strftime('%d').lstrip('0') + get_day_suffix(date.day) + ' ' + date.strftime('%b')\n",
    "\n",
    "print(format_dates_with_suffix(data.order_date.min()))"
   ]
  },
  {
   "cell_type": "code",
   "execution_count": 22,
   "id": "b804bf1b",
   "metadata": {},
   "outputs": [
    {
     "name": "stdout",
     "output_type": "stream",
     "text": [
      "2\n"
     ]
    }
   ],
   "source": [
    "if None:\n",
    "    print(1)\n",
    "else:\n",
    "    print(2)"
   ]
  },
  {
   "cell_type": "code",
   "execution_count": 24,
   "id": "6282dd5b",
   "metadata": {},
   "outputs": [],
   "source": [
    "data_a = data[data.supplier_id == 271]"
   ]
  },
  {
   "cell_type": "code",
   "execution_count": 26,
   "id": "216f8693",
   "metadata": {},
   "outputs": [
    {
     "data": {
      "text/plain": [
       "Timestamp('2023-09-27 00:00:00')"
      ]
     },
     "execution_count": 26,
     "metadata": {},
     "output_type": "execute_result"
    }
   ],
   "source": [
    "data_a.order_date.min()"
   ]
  },
  {
   "cell_type": "code",
   "execution_count": 27,
   "id": "808df9a5",
   "metadata": {},
   "outputs": [
    {
     "data": {
      "text/plain": [
       "Timestamp('2023-10-15 00:00:00')"
      ]
     },
     "execution_count": 27,
     "metadata": {},
     "output_type": "execute_result"
    }
   ],
   "source": [
    "data_a.order_date.max()"
   ]
  },
  {
   "cell_type": "code",
   "execution_count": 31,
   "id": "221c7ac7",
   "metadata": {},
   "outputs": [
    {
     "name": "stdout",
     "output_type": "stream",
     "text": [
      "(30, 11)\n",
      "(30, 11)\n",
      "(30, 11)\n",
      "(30, 11)\n",
      "(30, 11)\n",
      "(0, 11)\n"
     ]
    },
    {
     "ename": "ValueError",
     "evalue": "NaTType does not support strftime",
     "output_type": "error",
     "traceback": [
      "\u001b[1;31m---------------------------------------------------------------------------\u001b[0m",
      "\u001b[1;31mValueError\u001b[0m                                Traceback (most recent call last)",
      "\u001b[1;32mC:\\Users\\ABHINA~1\\AppData\\Local\\Temp/ipykernel_7124/1299501859.py\u001b[0m in \u001b[0;36m<module>\u001b[1;34m\u001b[0m\n\u001b[0;32m      6\u001b[0m     \u001b[0mprint\u001b[0m\u001b[1;33m(\u001b[0m\u001b[0mdata_supplier_set\u001b[0m\u001b[1;33m.\u001b[0m\u001b[0mshape\u001b[0m\u001b[1;33m)\u001b[0m\u001b[1;33m\u001b[0m\u001b[1;33m\u001b[0m\u001b[0m\n\u001b[0;32m      7\u001b[0m     \u001b[0mmeta_data\u001b[0m \u001b[1;33m=\u001b[0m \u001b[1;33m{\u001b[0m\u001b[1;33m}\u001b[0m\u001b[1;33m\u001b[0m\u001b[1;33m\u001b[0m\u001b[0m\n\u001b[1;32m----> 8\u001b[1;33m     \u001b[0mmeta_data\u001b[0m\u001b[1;33m[\u001b[0m\u001b[1;34m\"min_date\"\u001b[0m\u001b[1;33m]\u001b[0m \u001b[1;33m=\u001b[0m \u001b[0mformat_dates_with_suffix\u001b[0m\u001b[1;33m(\u001b[0m\u001b[0mdata_supplier_set\u001b[0m\u001b[1;33m.\u001b[0m\u001b[0morder_date\u001b[0m\u001b[1;33m.\u001b[0m\u001b[0mmin\u001b[0m\u001b[1;33m(\u001b[0m\u001b[1;33m)\u001b[0m\u001b[1;33m)\u001b[0m\u001b[1;33m\u001b[0m\u001b[1;33m\u001b[0m\u001b[0m\n\u001b[0m\u001b[0;32m      9\u001b[0m     \u001b[0mmeta_data\u001b[0m\u001b[1;33m[\u001b[0m\u001b[1;34m\"max_date\"\u001b[0m\u001b[1;33m]\u001b[0m \u001b[1;33m=\u001b[0m \u001b[0mformat_dates_with_suffix\u001b[0m\u001b[1;33m(\u001b[0m\u001b[0mdata_supplier_set\u001b[0m\u001b[1;33m.\u001b[0m\u001b[0morder_date\u001b[0m\u001b[1;33m.\u001b[0m\u001b[0mmax\u001b[0m\u001b[1;33m(\u001b[0m\u001b[1;33m)\u001b[0m\u001b[1;33m)\u001b[0m\u001b[1;33m\u001b[0m\u001b[1;33m\u001b[0m\u001b[0m\n",
      "\u001b[1;32mC:\\Users\\ABHINA~1\\AppData\\Local\\Temp/ipykernel_7124/1478324528.py\u001b[0m in \u001b[0;36mformat_dates_with_suffix\u001b[1;34m(date)\u001b[0m\n\u001b[0;32m      7\u001b[0m             \u001b[1;32mreturn\u001b[0m \u001b[1;33m[\u001b[0m\u001b[1;34m\"st\"\u001b[0m\u001b[1;33m,\u001b[0m \u001b[1;34m\"nd\"\u001b[0m\u001b[1;33m,\u001b[0m \u001b[1;34m\"rd\"\u001b[0m\u001b[1;33m]\u001b[0m\u001b[1;33m[\u001b[0m\u001b[0mday\u001b[0m \u001b[1;33m%\u001b[0m \u001b[1;36m10\u001b[0m \u001b[1;33m-\u001b[0m \u001b[1;36m1\u001b[0m\u001b[1;33m]\u001b[0m\u001b[1;33m\u001b[0m\u001b[1;33m\u001b[0m\u001b[0m\n\u001b[0;32m      8\u001b[0m \u001b[1;33m\u001b[0m\u001b[0m\n\u001b[1;32m----> 9\u001b[1;33m     \u001b[1;32mreturn\u001b[0m \u001b[0mdate\u001b[0m\u001b[1;33m.\u001b[0m\u001b[0mstrftime\u001b[0m\u001b[1;33m(\u001b[0m\u001b[1;34m'%d'\u001b[0m\u001b[1;33m)\u001b[0m\u001b[1;33m.\u001b[0m\u001b[0mlstrip\u001b[0m\u001b[1;33m(\u001b[0m\u001b[1;34m'0'\u001b[0m\u001b[1;33m)\u001b[0m \u001b[1;33m+\u001b[0m \u001b[0mget_day_suffix\u001b[0m\u001b[1;33m(\u001b[0m\u001b[0mdate\u001b[0m\u001b[1;33m.\u001b[0m\u001b[0mday\u001b[0m\u001b[1;33m)\u001b[0m \u001b[1;33m+\u001b[0m \u001b[1;34m' '\u001b[0m \u001b[1;33m+\u001b[0m \u001b[0mdate\u001b[0m\u001b[1;33m.\u001b[0m\u001b[0mstrftime\u001b[0m\u001b[1;33m(\u001b[0m\u001b[1;34m'%b'\u001b[0m\u001b[1;33m)\u001b[0m\u001b[1;33m\u001b[0m\u001b[1;33m\u001b[0m\u001b[0m\n\u001b[0m\u001b[0;32m     10\u001b[0m \u001b[1;33m\u001b[0m\u001b[0m\n\u001b[0;32m     11\u001b[0m \u001b[0mprint\u001b[0m\u001b[1;33m(\u001b[0m\u001b[0mformat_dates_with_suffix\u001b[0m\u001b[1;33m(\u001b[0m\u001b[0mdata\u001b[0m\u001b[1;33m.\u001b[0m\u001b[0morder_date\u001b[0m\u001b[1;33m.\u001b[0m\u001b[0mmin\u001b[0m\u001b[1;33m(\u001b[0m\u001b[1;33m)\u001b[0m\u001b[1;33m)\u001b[0m\u001b[1;33m)\u001b[0m\u001b[1;33m\u001b[0m\u001b[1;33m\u001b[0m\u001b[0m\n",
      "\u001b[1;32m~\\anaconda3\\lib\\site-packages\\pandas\\_libs\\tslibs\\nattype.pyx\u001b[0m in \u001b[0;36mpandas._libs.tslibs.nattype._make_error_func.f\u001b[1;34m()\u001b[0m\n",
      "\u001b[1;31mValueError\u001b[0m: NaTType does not support strftime"
     ]
    }
   ],
   "source": [
    "MAX_ROWS = 30\n",
    "\n",
    "for i in range(int(data_a.shape[0]/MAX_ROWS)+1):\n",
    "\n",
    "    data_supplier_set = data_a.iloc[i*MAX_ROWS:(i+1)*MAX_ROWS]\n",
    "    print(data_supplier_set.shape)\n",
    "    meta_data = {}\n",
    "    meta_data[\"min_date\"] = format_dates_with_suffix(data_supplier_set.order_date.min())\n",
    "    meta_data[\"max_date\"] = format_dates_with_suffix(data_supplier_set.order_date.max())"
   ]
  },
  {
   "cell_type": "code",
   "execution_count": 41,
   "id": "711f028b",
   "metadata": {},
   "outputs": [
    {
     "data": {
      "text/plain": [
       "array([587411, 843789, 145592, ..., 133287, 107685, 222685], dtype=int64)"
      ]
     },
     "execution_count": 41,
     "metadata": {},
     "output_type": "execute_result"
    }
   ],
   "source": [
    "data.groupby(by = [\"supplier_id\"])\\\n",
    "        .agg({\"affiliate_charge\" : \"sum\"})\\\n",
    "        .sort_values(by = \"affiliate_charge\", ascending = False)\\\n",
    "        .reset_index()\\\n",
    "        .supplier_id.unique()"
   ]
  },
  {
   "cell_type": "code",
   "execution_count": 47,
   "id": "62520630",
   "metadata": {},
   "outputs": [],
   "source": [
    "def add_leading_zeroes(number, padding = 4):\n",
    "    \n",
    "    return '0'*(padding - len(str(number))) + str(number)"
   ]
  },
  {
   "cell_type": "code",
   "execution_count": 50,
   "id": "c6bef9d8",
   "metadata": {},
   "outputs": [
    {
     "data": {
      "text/plain": [
       "'0234'"
      ]
     },
     "execution_count": 50,
     "metadata": {},
     "output_type": "execute_result"
    }
   ],
   "source": [
    "add_leading_zeroes(234)"
   ]
  },
  {
   "cell_type": "code",
   "execution_count": 53,
   "id": "8d31a4ce",
   "metadata": {},
   "outputs": [
    {
     "name": "stdout",
     "output_type": "stream",
     "text": [
      "Successfully read orders data\n",
      "Successfully read video data\n"
     ]
    },
    {
     "ename": "NameError",
     "evalue": "name 'get_unique_supplier_list' is not defined",
     "output_type": "error",
     "traceback": [
      "\u001b[1;31m---------------------------------------------------------------------------\u001b[0m",
      "\u001b[1;31mNameError\u001b[0m                                 Traceback (most recent call last)",
      "\u001b[1;32mC:\\Users\\ABHINA~1\\AppData\\Local\\Temp/ipykernel_7124/1745150862.py\u001b[0m in \u001b[0;36m<module>\u001b[1;34m\u001b[0m\n\u001b[0;32m     25\u001b[0m \u001b[1;33m\u001b[0m\u001b[0m\n\u001b[0;32m     26\u001b[0m \u001b[1;31m# supplier_list = [4773,48]\u001b[0m\u001b[1;33m\u001b[0m\u001b[1;33m\u001b[0m\u001b[0m\n\u001b[1;32m---> 27\u001b[1;33m \u001b[0mvideo_supplier_list\u001b[0m \u001b[1;33m=\u001b[0m \u001b[0mget_unique_supplier_list\u001b[0m\u001b[1;33m(\u001b[0m\u001b[0mdata_video\u001b[0m\u001b[1;33m)\u001b[0m\u001b[1;33m\u001b[0m\u001b[1;33m\u001b[0m\u001b[0m\n\u001b[0m\u001b[0;32m     28\u001b[0m \u001b[1;33m\u001b[0m\u001b[0m\n\u001b[0;32m     29\u001b[0m \u001b[1;31m# for index, supplier in enumerate(supplier_list):\u001b[0m\u001b[1;33m\u001b[0m\u001b[1;33m\u001b[0m\u001b[0m\n",
      "\u001b[1;31mNameError\u001b[0m: name 'get_unique_supplier_list' is not defined"
     ]
    }
   ],
   "source": [
    "orders_data_path = Path(r'D:\\Affiliate Program Pilot\\Supplier payments\\2023_09_01__2023_10_15\\Reports data\\supplier_orders_data.csv')\n",
    "video_data_path = Path(r'D:\\Affiliate Program Pilot\\Supplier payments\\2023_09_01__2023_10_15\\Reports data\\supplier_video_data.csv')\n",
    "main_directory = Path(r'D:\\Affiliate Program Pilot\\Supplier payments\\2023_09_01__2023_10_15\\final_reports')\n",
    "\n",
    "data = pd.read_csv(orders_data_path, parse_dates = [\"order_date\"])    \n",
    "# data = hyperlink_column(data, columns = [\"product_link\"], link_texts = [\"Click Here\"])\n",
    "data = data[data.order_date >= '2023-09-01']\n",
    "print(\"Successfully read orders data\")\n",
    "\n",
    "\n",
    "data_video = pd.read_csv(video_data_path)\n",
    "# data_video = hyperlink_column(data_video, columns = [\"post_url\", \"product_link\"], link_texts = [\"Click here for video\", \"Product Link\"])\n",
    "print(\"Successfully read video data\")\n",
    "\n",
    "# supplier_list = get_unique_supplier_list(data)\n",
    "\n",
    "# Getting unique supplier_list in priority_order\n",
    "\n",
    "supplier_list = data.groupby(by = [\"supplier_id\"])\\\n",
    "                        .agg({\"affiliate_charge\" : \"sum\"})\\\n",
    "                        .sort_values(by = \"affiliate_charge\", ascending = False)\\\n",
    "                        .reset_index()\\\n",
    "                        .supplier_id.unique()\n",
    "\n",
    "\n",
    "# supplier_list = [4773,48]\n",
    "# video_supplier_list = get_unique_supplier_list(data_video)\n",
    "\n",
    "# for index, supplier in enumerate(supplier_list):"
   ]
  },
  {
   "cell_type": "code",
   "execution_count": 54,
   "id": "38ce7005",
   "metadata": {},
   "outputs": [],
   "source": [
    "def get_unique_supplier_list(data, column = 'supplier_id'):\n",
    "    \n",
    "    return np.unique(data[column])\n",
    "\n",
    "\n",
    "video_supplier_list = get_unique_supplier_list(data_video)"
   ]
  },
  {
   "cell_type": "code",
   "execution_count": 63,
   "id": "a774132c",
   "metadata": {},
   "outputs": [
    {
     "name": "stdout",
     "output_type": "stream",
     "text": [
      "405\n"
     ]
    }
   ],
   "source": [
    "count = 0\n",
    "for index, supplier in enumerate(supplier_list):\n",
    "    \n",
    "#     print(\"generating report for \", add_leading_zeroes(index) + \"_\" + str(supplier))\n",
    "    \n",
    "#     supplier_path = os.path.join(main_directory, 'reports', add_leading_zeroes(index) + \"_\" + str(supplier))\n",
    "#     os.makedirs(supplier_path, exist_ok = True)\n",
    "#     supplier_report_path = os.path.join(supplier_path, str(supplier) + \" Affiliate Report.pdf\")\n",
    "    \n",
    "#     data_supplier = get_supplier_data(data, supplier, order_by_columns = [\"order_date\"])\n",
    "#     data_supplier_video = get_supplier_data(data_video\n",
    "#                                             , supplier\n",
    "#                                             , order_by_columns = [\"post_added_on\", \"catalog_name\", \"creator_db_name\"]\n",
    "#                                            , ascending = [False, True, True])\n",
    "    \n",
    "    is_video_present = supplier in video_supplier_list\n",
    "    if not is_video_present:\n",
    "#         print(supplier, is_video_present)\n",
    "        count = count + 1\n",
    "print(count)"
   ]
  },
  {
   "cell_type": "code",
   "execution_count": null,
   "id": "b188851f",
   "metadata": {},
   "outputs": [],
   "source": []
  }
 ],
 "metadata": {
  "kernelspec": {
   "display_name": "Python 3 (ipykernel)",
   "language": "python",
   "name": "python3"
  },
  "language_info": {
   "codemirror_mode": {
    "name": "ipython",
    "version": 3
   },
   "file_extension": ".py",
   "mimetype": "text/x-python",
   "name": "python",
   "nbconvert_exporter": "python",
   "pygments_lexer": "ipython3",
   "version": "3.9.7"
  }
 },
 "nbformat": 4,
 "nbformat_minor": 5
}
